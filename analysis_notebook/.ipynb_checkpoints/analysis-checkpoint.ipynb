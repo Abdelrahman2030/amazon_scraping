{
 "cells": [
  {
   "cell_type": "code",
   "execution_count": 1,
   "id": "389598ab",
   "metadata": {},
   "outputs": [],
   "source": [
    "import time\n",
    "import pandas as pd\n",
    "import numpy as np\n",
    "import matplotlib.pyplot as plt"
   ]
  },
  {
   "cell_type": "code",
   "execution_count": 78,
   "id": "62e3db2a",
   "metadata": {},
   "outputs": [],
   "source": [
    "df = pd.read_csv(\"data.csv\")"
   ]
  },
  {
   "cell_type": "code",
   "execution_count": 79,
   "id": "f71e3356",
   "metadata": {},
   "outputs": [
    {
     "data": {
      "text/html": [
       "<div>\n",
       "<style scoped>\n",
       "    .dataframe tbody tr th:only-of-type {\n",
       "        vertical-align: middle;\n",
       "    }\n",
       "\n",
       "    .dataframe tbody tr th {\n",
       "        vertical-align: top;\n",
       "    }\n",
       "\n",
       "    .dataframe thead th {\n",
       "        text-align: right;\n",
       "    }\n",
       "</style>\n",
       "<table border=\"1\" class=\"dataframe\">\n",
       "  <thead>\n",
       "    <tr style=\"text-align: right;\">\n",
       "      <th></th>\n",
       "      <th>search_rank</th>\n",
       "      <th>product_name</th>\n",
       "      <th>old_price</th>\n",
       "      <th>discount</th>\n",
       "      <th>new_price</th>\n",
       "      <th>rating</th>\n",
       "      <th>number_of_ratings</th>\n",
       "      <th>official_store</th>\n",
       "      <th>brand_name</th>\n",
       "      <th>source</th>\n",
       "    </tr>\n",
       "  </thead>\n",
       "  <tbody>\n",
       "    <tr>\n",
       "      <th>0</th>\n",
       "      <td>1</td>\n",
       "      <td>American Eagle AE Super Soft Graphic T-Shirt</td>\n",
       "      <td>800.0</td>\n",
       "      <td>50</td>\n",
       "      <td>400.0</td>\n",
       "      <td>4.8</td>\n",
       "      <td>5.0</td>\n",
       "      <td>Non</td>\n",
       "      <td>Not a brand</td>\n",
       "      <td>Jumia</td>\n",
       "    </tr>\n",
       "    <tr>\n",
       "      <th>1</th>\n",
       "      <td>2</td>\n",
       "      <td>American Eagle AE Super Soft Graphic T-Shirt</td>\n",
       "      <td>800.0</td>\n",
       "      <td>50</td>\n",
       "      <td>400.0</td>\n",
       "      <td>4.6</td>\n",
       "      <td>12.0</td>\n",
       "      <td>Non</td>\n",
       "      <td>Not a brand</td>\n",
       "      <td>Jumia</td>\n",
       "    </tr>\n",
       "    <tr>\n",
       "      <th>2</th>\n",
       "      <td>3</td>\n",
       "      <td>American Eagle Super Soft Graphic T-Shirt</td>\n",
       "      <td>950.0</td>\n",
       "      <td>50</td>\n",
       "      <td>475.0</td>\n",
       "      <td>4.3</td>\n",
       "      <td>93.0</td>\n",
       "      <td>Non</td>\n",
       "      <td>Not a brand</td>\n",
       "      <td>Jumia</td>\n",
       "    </tr>\n",
       "    <tr>\n",
       "      <th>3</th>\n",
       "      <td>4</td>\n",
       "      <td>Air Walk Printed Pattern Sleeves T-Shirt - Black</td>\n",
       "      <td>299.0</td>\n",
       "      <td>40</td>\n",
       "      <td>180.0</td>\n",
       "      <td>4.3</td>\n",
       "      <td>3.0</td>\n",
       "      <td>official_store</td>\n",
       "      <td>air</td>\n",
       "      <td>Jumia</td>\n",
       "    </tr>\n",
       "    <tr>\n",
       "      <th>4</th>\n",
       "      <td>5</td>\n",
       "      <td>American Eagle AE Super Soft Logo Graphic T-Shirt</td>\n",
       "      <td>700.0</td>\n",
       "      <td>50</td>\n",
       "      <td>350.0</td>\n",
       "      <td>4.4</td>\n",
       "      <td>33.0</td>\n",
       "      <td>Non</td>\n",
       "      <td>Not a brand</td>\n",
       "      <td>Jumia</td>\n",
       "    </tr>\n",
       "    <tr>\n",
       "      <th>...</th>\n",
       "      <td>...</td>\n",
       "      <td>...</td>\n",
       "      <td>...</td>\n",
       "      <td>...</td>\n",
       "      <td>...</td>\n",
       "      <td>...</td>\n",
       "      <td>...</td>\n",
       "      <td>...</td>\n",
       "      <td>...</td>\n",
       "      <td>...</td>\n",
       "    </tr>\n",
       "    <tr>\n",
       "      <th>2237</th>\n",
       "      <td>10</td>\n",
       "      <td>Short Sleeves FZ Flower Shirt Turquoise</td>\n",
       "      <td>499.0</td>\n",
       "      <td>50</td>\n",
       "      <td>250.0</td>\n",
       "      <td>NaN</td>\n",
       "      <td>NaN</td>\n",
       "      <td>official_store</td>\n",
       "      <td>sutra</td>\n",
       "      <td>sutra</td>\n",
       "    </tr>\n",
       "    <tr>\n",
       "      <th>2238</th>\n",
       "      <td>11</td>\n",
       "      <td>Short Sleeves Triangle Shirt Gray</td>\n",
       "      <td>479.0</td>\n",
       "      <td>50</td>\n",
       "      <td>240.0</td>\n",
       "      <td>NaN</td>\n",
       "      <td>NaN</td>\n",
       "      <td>official_store</td>\n",
       "      <td>sutra</td>\n",
       "      <td>sutra</td>\n",
       "    </tr>\n",
       "    <tr>\n",
       "      <th>2239</th>\n",
       "      <td>12</td>\n",
       "      <td>Short Sleeves Stripped FZ Shirt Turquoise</td>\n",
       "      <td>499.0</td>\n",
       "      <td>50</td>\n",
       "      <td>250.0</td>\n",
       "      <td>NaN</td>\n",
       "      <td>NaN</td>\n",
       "      <td>official_store</td>\n",
       "      <td>sutra</td>\n",
       "      <td>sutra</td>\n",
       "    </tr>\n",
       "    <tr>\n",
       "      <th>2240</th>\n",
       "      <td>1</td>\n",
       "      <td>Short Sleeves Triangle Shirt White</td>\n",
       "      <td>479.0</td>\n",
       "      <td>50</td>\n",
       "      <td>240.0</td>\n",
       "      <td>NaN</td>\n",
       "      <td>NaN</td>\n",
       "      <td>official_store</td>\n",
       "      <td>sutra</td>\n",
       "      <td>sutra</td>\n",
       "    </tr>\n",
       "    <tr>\n",
       "      <th>2241</th>\n",
       "      <td>2</td>\n",
       "      <td>Short Sleeves Triangle Shirt Beige</td>\n",
       "      <td>479.0</td>\n",
       "      <td>50</td>\n",
       "      <td>240.0</td>\n",
       "      <td>NaN</td>\n",
       "      <td>NaN</td>\n",
       "      <td>official_store</td>\n",
       "      <td>sutra</td>\n",
       "      <td>sutra</td>\n",
       "    </tr>\n",
       "  </tbody>\n",
       "</table>\n",
       "<p>2242 rows × 10 columns</p>\n",
       "</div>"
      ],
      "text/plain": [
       "      search_rank                                       product_name  \\\n",
       "0               1       American Eagle AE Super Soft Graphic T-Shirt   \n",
       "1               2       American Eagle AE Super Soft Graphic T-Shirt   \n",
       "2               3          American Eagle Super Soft Graphic T-Shirt   \n",
       "3               4   Air Walk Printed Pattern Sleeves T-Shirt - Black   \n",
       "4               5  American Eagle AE Super Soft Logo Graphic T-Shirt   \n",
       "...           ...                                                ...   \n",
       "2237           10            Short Sleeves FZ Flower Shirt Turquoise   \n",
       "2238           11                  Short Sleeves Triangle Shirt Gray   \n",
       "2239           12          Short Sleeves Stripped FZ Shirt Turquoise   \n",
       "2240            1                 Short Sleeves Triangle Shirt White   \n",
       "2241            2                 Short Sleeves Triangle Shirt Beige   \n",
       "\n",
       "      old_price  discount  new_price  rating  number_of_ratings  \\\n",
       "0         800.0        50      400.0     4.8                5.0   \n",
       "1         800.0        50      400.0     4.6               12.0   \n",
       "2         950.0        50      475.0     4.3               93.0   \n",
       "3         299.0        40      180.0     4.3                3.0   \n",
       "4         700.0        50      350.0     4.4               33.0   \n",
       "...         ...       ...        ...     ...                ...   \n",
       "2237      499.0        50      250.0     NaN                NaN   \n",
       "2238      479.0        50      240.0     NaN                NaN   \n",
       "2239      499.0        50      250.0     NaN                NaN   \n",
       "2240      479.0        50      240.0     NaN                NaN   \n",
       "2241      479.0        50      240.0     NaN                NaN   \n",
       "\n",
       "      official_store   brand_name source  \n",
       "0                Non  Not a brand  Jumia  \n",
       "1                Non  Not a brand  Jumia  \n",
       "2                Non  Not a brand  Jumia  \n",
       "3     official_store          air  Jumia  \n",
       "4                Non  Not a brand  Jumia  \n",
       "...              ...          ...    ...  \n",
       "2237  official_store        sutra  sutra  \n",
       "2238  official_store        sutra  sutra  \n",
       "2239  official_store        sutra  sutra  \n",
       "2240  official_store        sutra  sutra  \n",
       "2241  official_store        sutra  sutra  \n",
       "\n",
       "[2242 rows x 10 columns]"
      ]
     },
     "execution_count": 79,
     "metadata": {},
     "output_type": "execute_result"
    }
   ],
   "source": [
    "df"
   ]
  },
  {
   "cell_type": "code",
   "execution_count": 81,
   "id": "b1c45885",
   "metadata": {},
   "outputs": [
    {
     "name": "stdout",
     "output_type": "stream",
     "text": [
      "<class 'pandas.core.frame.DataFrame'>\n",
      "RangeIndex: 2242 entries, 0 to 2241\n",
      "Data columns (total 10 columns):\n",
      " #   Column             Non-Null Count  Dtype  \n",
      "---  ------             --------------  -----  \n",
      " 0   search_rank        2242 non-null   int64  \n",
      " 1   product_name       2242 non-null   object \n",
      " 2   old_price          2242 non-null   float64\n",
      " 3   discount           2242 non-null   int64  \n",
      " 4   new_price          2242 non-null   float64\n",
      " 5   rating             2000 non-null   float64\n",
      " 6   number_of_ratings  2000 non-null   float64\n",
      " 7   official_store     2242 non-null   object \n",
      " 8   brand_name         2242 non-null   object \n",
      " 9   source             2242 non-null   object \n",
      "dtypes: float64(4), int64(2), object(4)\n",
      "memory usage: 175.3+ KB\n"
     ]
    }
   ],
   "source": [
    "df.info()"
   ]
  },
  {
   "cell_type": "code",
   "execution_count": 82,
   "id": "14579fb0",
   "metadata": {},
   "outputs": [
    {
     "data": {
      "text/plain": [
       "search_rank            0\n",
       "product_name           0\n",
       "old_price              0\n",
       "discount               0\n",
       "new_price              0\n",
       "rating               242\n",
       "number_of_ratings    242\n",
       "official_store         0\n",
       "brand_name             0\n",
       "source                 0\n",
       "dtype: int64"
      ]
     },
     "execution_count": 82,
     "metadata": {},
     "output_type": "execute_result"
    }
   ],
   "source": [
    "df.isnull().sum()"
   ]
  },
  {
   "cell_type": "code",
   "execution_count": 83,
   "id": "1cf0ab9f",
   "metadata": {},
   "outputs": [
    {
     "data": {
      "text/plain": [
       "sutra    242\n",
       "Name: source, dtype: int64"
      ]
     },
     "execution_count": 83,
     "metadata": {},
     "output_type": "execute_result"
    }
   ],
   "source": [
    "df[df[\"number_of_ratings\"].isnull()][\"source\"].value_counts()"
   ]
  },
  {
   "cell_type": "code",
   "execution_count": 86,
   "id": "7637ce5c",
   "metadata": {},
   "outputs": [
    {
     "data": {
      "text/html": [
       "<div>\n",
       "<style scoped>\n",
       "    .dataframe tbody tr th:only-of-type {\n",
       "        vertical-align: middle;\n",
       "    }\n",
       "\n",
       "    .dataframe tbody tr th {\n",
       "        vertical-align: top;\n",
       "    }\n",
       "\n",
       "    .dataframe thead th {\n",
       "        text-align: right;\n",
       "    }\n",
       "</style>\n",
       "<table border=\"1\" class=\"dataframe\">\n",
       "  <thead>\n",
       "    <tr style=\"text-align: right;\">\n",
       "      <th></th>\n",
       "      <th>search_rank</th>\n",
       "      <th>old_price</th>\n",
       "      <th>discount</th>\n",
       "      <th>new_price</th>\n",
       "      <th>rating</th>\n",
       "      <th>number_of_ratings</th>\n",
       "    </tr>\n",
       "  </thead>\n",
       "  <tbody>\n",
       "    <tr>\n",
       "      <th>count</th>\n",
       "      <td>2242.000000</td>\n",
       "      <td>2242.000000</td>\n",
       "      <td>2242.000000</td>\n",
       "      <td>2242.000000</td>\n",
       "      <td>2000.000000</td>\n",
       "      <td>2000.000000</td>\n",
       "    </tr>\n",
       "    <tr>\n",
       "      <th>mean</th>\n",
       "      <td>893.203836</td>\n",
       "      <td>465.342221</td>\n",
       "      <td>36.601249</td>\n",
       "      <td>291.415143</td>\n",
       "      <td>1.687700</td>\n",
       "      <td>5.288000</td>\n",
       "    </tr>\n",
       "    <tr>\n",
       "      <th>std</th>\n",
       "      <td>626.637276</td>\n",
       "      <td>362.499473</td>\n",
       "      <td>19.939976</td>\n",
       "      <td>259.810217</td>\n",
       "      <td>2.136029</td>\n",
       "      <td>25.584533</td>\n",
       "    </tr>\n",
       "    <tr>\n",
       "      <th>min</th>\n",
       "      <td>1.000000</td>\n",
       "      <td>79.980000</td>\n",
       "      <td>0.000000</td>\n",
       "      <td>57.000000</td>\n",
       "      <td>0.000000</td>\n",
       "      <td>0.000000</td>\n",
       "    </tr>\n",
       "    <tr>\n",
       "      <th>25%</th>\n",
       "      <td>319.250000</td>\n",
       "      <td>299.000000</td>\n",
       "      <td>20.000000</td>\n",
       "      <td>164.000000</td>\n",
       "      <td>0.000000</td>\n",
       "      <td>0.000000</td>\n",
       "    </tr>\n",
       "    <tr>\n",
       "      <th>50%</th>\n",
       "      <td>879.500000</td>\n",
       "      <td>375.000000</td>\n",
       "      <td>40.000000</td>\n",
       "      <td>210.840000</td>\n",
       "      <td>0.000000</td>\n",
       "      <td>0.000000</td>\n",
       "    </tr>\n",
       "    <tr>\n",
       "      <th>75%</th>\n",
       "      <td>1439.750000</td>\n",
       "      <td>499.000000</td>\n",
       "      <td>50.000000</td>\n",
       "      <td>314.750000</td>\n",
       "      <td>4.000000</td>\n",
       "      <td>2.000000</td>\n",
       "    </tr>\n",
       "    <tr>\n",
       "      <th>max</th>\n",
       "      <td>2000.000000</td>\n",
       "      <td>6547.000000</td>\n",
       "      <td>89.000000</td>\n",
       "      <td>5237.000000</td>\n",
       "      <td>5.000000</td>\n",
       "      <td>373.000000</td>\n",
       "    </tr>\n",
       "  </tbody>\n",
       "</table>\n",
       "</div>"
      ],
      "text/plain": [
       "       search_rank    old_price     discount    new_price       rating  \\\n",
       "count  2242.000000  2242.000000  2242.000000  2242.000000  2000.000000   \n",
       "mean    893.203836   465.342221    36.601249   291.415143     1.687700   \n",
       "std     626.637276   362.499473    19.939976   259.810217     2.136029   \n",
       "min       1.000000    79.980000     0.000000    57.000000     0.000000   \n",
       "25%     319.250000   299.000000    20.000000   164.000000     0.000000   \n",
       "50%     879.500000   375.000000    40.000000   210.840000     0.000000   \n",
       "75%    1439.750000   499.000000    50.000000   314.750000     4.000000   \n",
       "max    2000.000000  6547.000000    89.000000  5237.000000     5.000000   \n",
       "\n",
       "       number_of_ratings  \n",
       "count        2000.000000  \n",
       "mean            5.288000  \n",
       "std            25.584533  \n",
       "min             0.000000  \n",
       "25%             0.000000  \n",
       "50%             0.000000  \n",
       "75%             2.000000  \n",
       "max           373.000000  "
      ]
     },
     "execution_count": 86,
     "metadata": {},
     "output_type": "execute_result"
    }
   ],
   "source": [
    "df.describe()"
   ]
  },
  {
   "cell_type": "code",
   "execution_count": 89,
   "id": "6af5a76f",
   "metadata": {},
   "outputs": [
    {
     "data": {
      "text/html": [
       "<div>\n",
       "<style scoped>\n",
       "    .dataframe tbody tr th:only-of-type {\n",
       "        vertical-align: middle;\n",
       "    }\n",
       "\n",
       "    .dataframe tbody tr th {\n",
       "        vertical-align: top;\n",
       "    }\n",
       "\n",
       "    .dataframe thead th {\n",
       "        text-align: right;\n",
       "    }\n",
       "</style>\n",
       "<table border=\"1\" class=\"dataframe\">\n",
       "  <thead>\n",
       "    <tr style=\"text-align: right;\">\n",
       "      <th></th>\n",
       "      <th>search_rank</th>\n",
       "      <th>old_price</th>\n",
       "      <th>discount</th>\n",
       "      <th>new_price</th>\n",
       "      <th>rating</th>\n",
       "      <th>number_of_ratings</th>\n",
       "    </tr>\n",
       "  </thead>\n",
       "  <tbody>\n",
       "    <tr>\n",
       "      <th>count</th>\n",
       "      <td>2000.000000</td>\n",
       "      <td>2000.000000</td>\n",
       "      <td>2000.000000</td>\n",
       "      <td>2000.000000</td>\n",
       "      <td>2000.000000</td>\n",
       "      <td>2000.000000</td>\n",
       "    </tr>\n",
       "    <tr>\n",
       "      <th>mean</th>\n",
       "      <td>1000.500000</td>\n",
       "      <td>471.681130</td>\n",
       "      <td>35.150000</td>\n",
       "      <td>300.907375</td>\n",
       "      <td>1.687700</td>\n",
       "      <td>5.288000</td>\n",
       "    </tr>\n",
       "    <tr>\n",
       "      <th>std</th>\n",
       "      <td>577.494589</td>\n",
       "      <td>382.158086</td>\n",
       "      <td>20.539022</td>\n",
       "      <td>272.909928</td>\n",
       "      <td>2.136029</td>\n",
       "      <td>25.584533</td>\n",
       "    </tr>\n",
       "    <tr>\n",
       "      <th>min</th>\n",
       "      <td>1.000000</td>\n",
       "      <td>79.980000</td>\n",
       "      <td>0.000000</td>\n",
       "      <td>57.000000</td>\n",
       "      <td>0.000000</td>\n",
       "      <td>0.000000</td>\n",
       "    </tr>\n",
       "    <tr>\n",
       "      <th>25%</th>\n",
       "      <td>500.750000</td>\n",
       "      <td>295.000000</td>\n",
       "      <td>20.000000</td>\n",
       "      <td>162.000000</td>\n",
       "      <td>0.000000</td>\n",
       "      <td>0.000000</td>\n",
       "    </tr>\n",
       "    <tr>\n",
       "      <th>50%</th>\n",
       "      <td>1000.500000</td>\n",
       "      <td>372.000000</td>\n",
       "      <td>39.000000</td>\n",
       "      <td>210.840000</td>\n",
       "      <td>0.000000</td>\n",
       "      <td>0.000000</td>\n",
       "    </tr>\n",
       "    <tr>\n",
       "      <th>75%</th>\n",
       "      <td>1500.250000</td>\n",
       "      <td>499.000000</td>\n",
       "      <td>50.000000</td>\n",
       "      <td>349.020000</td>\n",
       "      <td>4.000000</td>\n",
       "      <td>2.000000</td>\n",
       "    </tr>\n",
       "    <tr>\n",
       "      <th>max</th>\n",
       "      <td>2000.000000</td>\n",
       "      <td>6547.000000</td>\n",
       "      <td>89.000000</td>\n",
       "      <td>5237.000000</td>\n",
       "      <td>5.000000</td>\n",
       "      <td>373.000000</td>\n",
       "    </tr>\n",
       "  </tbody>\n",
       "</table>\n",
       "</div>"
      ],
      "text/plain": [
       "       search_rank    old_price     discount    new_price       rating  \\\n",
       "count  2000.000000  2000.000000  2000.000000  2000.000000  2000.000000   \n",
       "mean   1000.500000   471.681130    35.150000   300.907375     1.687700   \n",
       "std     577.494589   382.158086    20.539022   272.909928     2.136029   \n",
       "min       1.000000    79.980000     0.000000    57.000000     0.000000   \n",
       "25%     500.750000   295.000000    20.000000   162.000000     0.000000   \n",
       "50%    1000.500000   372.000000    39.000000   210.840000     0.000000   \n",
       "75%    1500.250000   499.000000    50.000000   349.020000     4.000000   \n",
       "max    2000.000000  6547.000000    89.000000  5237.000000     5.000000   \n",
       "\n",
       "       number_of_ratings  \n",
       "count        2000.000000  \n",
       "mean            5.288000  \n",
       "std            25.584533  \n",
       "min             0.000000  \n",
       "25%             0.000000  \n",
       "50%             0.000000  \n",
       "75%             2.000000  \n",
       "max           373.000000  "
      ]
     },
     "execution_count": 89,
     "metadata": {},
     "output_type": "execute_result"
    }
   ],
   "source": [
    "df.query(\"source == 'Jumia'\").describe()"
   ]
  },
  {
   "cell_type": "markdown",
   "id": "f11edfbd",
   "metadata": {},
   "source": [
    "**From comparing the describe with values from sutra and without it, the difference is not even noticable, as there are very little data points**"
   ]
  },
  {
   "cell_type": "code",
   "execution_count": 95,
   "id": "989ff6ce",
   "metadata": {},
   "outputs": [
    {
     "data": {
      "image/png": "[encoded data removed]",
      "text/plain": [
       "<Figure size 1000x500 with 2 Axes>"
      ]
     },
     "metadata": {},
     "output_type": "display_data"
    }
   ],
   "source": [
    "# this makes us make sevral graphs with each figure size as noted\n",
    "fig, (ax1, ax2) = plt.subplots(1, 2, figsize=(10, 5))\n",
    "#This endicates that there is a space between each graph\n",
    "plt.tight_layout(pad = 2)\n",
    "\n",
    "#The first boxplot with it's title\n",
    "ax1.boxplot(df[\"new_price\"], labels = [\"new price\"])\n",
    "ax1.set_title(\"new price box plot\")\n",
    "\n",
    "ax2.boxplot(df[\"old_price\"], labels = [\"old price\"])\n",
    "ax2.set_title(\"old price box plot\");"
   ]
  },
  {
   "cell_type": "markdown",
   "id": "dc21562e",
   "metadata": {},
   "source": [
    "It seems that the data is so skewd and not normal"
   ]
  },
  {
   "cell_type": "markdown",
   "id": "8d78ecc1",
   "metadata": {},
   "source": [
    "## New price analysis\n",
    "**The main variable in our analysis is the main price, the old price is useful to study how discount affects the number of ratings**"
   ]
  },
  {
   "cell_type": "code",
   "execution_count": 113,
   "id": "f03d25b4",
   "metadata": {},
   "outputs": [
    {
     "data": {
      "text/plain": [
       "count    2242.000000\n",
       "mean      291.415143\n",
       "std       259.810217\n",
       "min        57.000000\n",
       "25%       164.000000\n",
       "50%       210.840000\n",
       "75%       314.750000\n",
       "max      5237.000000\n",
       "Name: new_price, dtype: float64"
      ]
     },
     "execution_count": 113,
     "metadata": {},
     "output_type": "execute_result"
    }
   ],
   "source": [
    "df[\"new_price\"].describe()"
   ]
  },
  {
   "cell_type": "code",
   "execution_count": 109,
   "id": "6711c38b",
   "metadata": {},
   "outputs": [
    {
     "data": {
      "image/png": "[encoded data removed]",
      "text/plain": [
       "<Figure size 640x480 with 1 Axes>"
      ]
     },
     "metadata": {},
     "output_type": "display_data"
    }
   ],
   "source": [
    "\n",
    "plt.boxplot(df[\"new_price\"])\n",
    "plt.grid(True)\n",
    "\n",
    "plt.title(\"Box plot of the new price\", size = 16);"
   ]
  },
  {
   "cell_type": "markdown",
   "id": "d9ce403c",
   "metadata": {},
   "source": [
    "From the boxplot we can see that all the outliers are in the high prices, there is no seller unique beacuse of low prices, this means that the **low prices are not high competitve advantages**"
   ]
  },
  {
   "cell_type": "code",
   "execution_count": 115,
   "id": "f42d14e4",
   "metadata": {},
   "outputs": [
    {
     "data": {
      "image/png": "[encoded data removed]",
      "text/plain": [
       "<Figure size 800x600 with 1 Axes>"
      ]
     },
     "metadata": {},
     "output_type": "display_data"
    }
   ],
   "source": [
    "plt.figure(figsize=(8, 6))\n",
    "df[\"new_price\"].hist(bins = 20)\n",
    "\n",
    "plt.title(\"histogram of new prices\", size = 16)\n",
    "plt.xlabel(\"prices\", size = 14)\n",
    "plt.ylabel(\"count\", size = 14);"
   ]
  },
  {
   "cell_type": "markdown",
   "id": "53c8fae6",
   "metadata": {},
   "source": [
    "**These outliers make me think about some question**\n",
    ">**Are these outliers related to being a brand or not?**\n",
    "<br>\n",
    "<br>\n",
    ">**Does these outliers have high sales compared to normal prices?**"
   ]
  },
  {
   "cell_type": "code",
   "execution_count": 128,
   "id": "c6f2c792",
   "metadata": {},
   "outputs": [
    {
     "data": {
      "image/png": "[encoded data removed]",
      "text/plain": [
       "<Figure size 1000x500 with 2 Axes>"
      ]
     },
     "metadata": {},
     "output_type": "display_data"
    }
   ],
   "source": [
    "#I want to look at the distripution of 75% of data\n",
    "q3 = np.percentile(df[\"new_price\"], 75)\n",
    "data_1 = df[df[\"new_price\"] <= q3][\"new_price\"]\n",
    "\n",
    "data_2 = df[df[\"new_price\"] >= q3][\"new_price\"]\n",
    "\n",
    "fig, (ax1, ax2) = plt.subplots(1, 2, figsize = (10, 5))\n",
    "plt.tight_layout()\n",
    "\n",
    "ax1.hist(data_1)\n",
    "ax1.grid(True)\n",
    "ax1.set_title(\"The distripution of the data BEFORE the Q3\", size = 15);\n",
    "\n",
    "ax2.hist(data_2)\n",
    "ax2.grid(True)\n",
    "ax2.set_title(\"The distripution of the data AFTER the Q3\", size = 15);"
   ]
  },
  {
   "cell_type": "code",
   "execution_count": null,
   "id": "72dbcd07",
   "metadata": {},
   "outputs": [],
   "source": []
  }
 ],
 "metadata": {
  "kernelspec": {
   "display_name": "Python 3 (ipykernel)",
   "language": "python",
   "name": "python3"
  },
  "language_info": {
   "codemirror_mode": {
    "name": "ipython",
    "version": 3
   },
   "file_extension": ".py",
   "mimetype": "text/x-python",
   "name": "python",
   "nbconvert_exporter": "python",
   "pygments_lexer": "ipython3",
   "version": "3.9.13"
  }
 },
 "nbformat": 4,
 "nbformat_minor": 5
}
