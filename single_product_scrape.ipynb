{
 "cells": [
  {
   "cell_type": "code",
   "execution_count": 23,
   "id": "0147e94d",
   "metadata": {},
   "outputs": [],
   "source": [
    "import pandas as pd\n",
    "import numpy as np\n",
    "from bs4 import BeautifulSoup\n",
    "import requests\n",
    "import time\n",
    "import random"
   ]
  },
  {
   "cell_type": "code",
   "execution_count": 57,
   "id": "6092b3ff",
   "metadata": {},
   "outputs": [],
   "source": [
    "# connecting to Amazon.com\n",
    "url = \"https://www.amazon.com/Melissa-Doug-Take-Along-Tabletop-Multicolor/dp/B07KBQJV5H/?_encoding=UTF8&_ref=dlx_gate_sd_dcl_tlt_c95adc21_dt&pd_rd_w=BXVG5&content-id=amzn1.sym.2ed7d12d-4886-42ac-ae8f-d4dd936eb1e6&pf_rd_p=2ed7d12d-4886-42ac-ae8f-d4dd936eb1e6&pf_rd_r=RAC6MFJ6A1T37V0SX2TW&pd_rd_wg=Gn0qS&pd_rd_r=e78e60ad-3401-4d40-9b15-4de06b3fb849&ref_=pd_gw_unk\""
   ]
  },
  {
   "cell_type": "markdown",
   "id": "521d99fb",
   "metadata": {},
   "source": [
    "## The way to over come the pot tracking system\n",
    ">**To get over the security of Amzon that blockes any pot, i did the following, created a list of many cookies that i have collected from sevral websites, then created a dict. in wich I choose random cookies in it**\n",
    "\n",
    ">**I did the same thing with user agents**\n",
    "\n",
    ">**The final result is that when I use requests each time i have a diffrent compination of cookies and user agents so I can trick Amazon to think that the pot is real human**\n",
    "\n",
    ">**I collected cookies manually and stored them in a csv file then opend them, This will make the code looks cleaner**"
   ]
  },
  {
   "cell_type": "code",
   "execution_count": 186,
   "id": "2cdf4ea4",
   "metadata": {},
   "outputs": [],
   "source": [
    "# I have a lot of cookies saved in a csv file, so i will open it here\n",
    "cookies_df = pd.read_csv(\"cookies_list.csv\")"
   ]
  },
  {
   "cell_type": "code",
   "execution_count": null,
   "id": "ef870aa0",
   "metadata": {},
   "outputs": [],
   "source": [
    "# This library gives us fake "
   ]
  },
  {
   "cell_type": "code",
   "execution_count": 161,
   "id": "16386bd1",
   "metadata": {},
   "outputs": [],
   "source": [
    "# i will create a list with all diffrent user agents\n",
    "\n",
    "user_agents_list = [\"Mozilla/5.0 (Windows NT 10.0; Win64; x64) AppleWebKit/537.36 (KHTML, like Gecko) Chrome/117.0.0.0 Safari/537.36\",\n",
    "                    \"Mozilla/5.0 (Macintosh; Intel Mac OS X 10_15_7) AppleWebKit/605.1.15 (KHTML, like Gecko) Version/16.1 Safari/605.1.15\",\n",
    "                   \"Mozilla/5.0 (X11; Linux x86_64) AppleWebKit/537.36 (KHTML, like Gecko) Chrome/108.0.0.0 Safari/537.36\",\n",
    "                   \"Mozilla/5.0 (Macintosh; Intel Mac OS X 10_15_7) AppleWebKit/537.36 (KHTML, like Gecko) Chrome/108.0.0.0 Safari/537.36\",\n",
    "                   \"Mozilla/5.0 (Windows NT 10.0; Win64; x64) AppleWebKit/537.36 (KHTML, like Gecko) Chrome/108.0.0.0 Safari/537.36\",\n",
    "                   \"Mozilla/5.0 (Macintosh; Intel Mac OS X 10_15_7) AppleWebKit/537.36 (KHTML, like Gecko) Chrome/109.0.0.0 Safari/537.36\",\n",
    "                   \"Mozilla/5.0 (Windows NT 10.0; Win64; x64) AppleWebKit/537.36 (KHTML, like Gecko) Chrome/109.0.0.0 Safari/537.36\"]"
   ]
  },
  {
   "cell_type": "code",
   "execution_count": 195,
   "id": "ee565055",
   "metadata": {},
   "outputs": [],
   "source": [
    "# Now i WIll make a dict for the cookies\n",
    "cookie_keys = [\"cookies_1\", \"cookies_2\"]\n",
    "\n",
    "# Convert the DataFrame column to a list\n",
    "all_cookies = cookies_df[\"cookies\"].tolist()\n",
    "\n",
    "# Generate a list of unique random cookies\n",
    "unique_cookies = random.sample(all_cookies, min(len(all_cookies), len(cookie_keys)))\n",
    "\n",
    "# Create the cookies_dict using the cookie_keys and unique_cookies\n",
    "cookies_dict = dict(zip(cookie_keys, unique_cookies))"
   ]
  },
  {
   "cell_type": "code",
   "execution_count": 178,
   "id": "94d74c1d",
   "metadata": {},
   "outputs": [],
   "source": [
    "user_agent = random.choice(user_agents_list)"
   ]
  },
  {
   "cell_type": "code",
   "execution_count": 179,
   "id": "c3473a97",
   "metadata": {},
   "outputs": [],
   "source": [
    "headers = {\"user-agent\" : user_agent}"
   ]
  },
  {
   "cell_type": "markdown",
   "id": "4aa1c97f",
   "metadata": {},
   "source": [
    "## Using the request"
   ]
  },
  {
   "cell_type": "code",
   "execution_count": 180,
   "id": "a6ef5c7c",
   "metadata": {},
   "outputs": [
    {
     "data": {
      "text/plain": [
       "<Response [200]>"
      ]
     },
     "execution_count": 180,
     "metadata": {},
     "output_type": "execute_result"
    }
   ],
   "source": [
    "response = requests.get(url, headers = headers, cookies = cookies)\n",
    "response"
   ]
  },
  {
   "cell_type": "code",
   "execution_count": 181,
   "id": "7d0bd6ec",
   "metadata": {},
   "outputs": [],
   "source": [
    "content = response.content"
   ]
  },
  {
   "cell_type": "code",
   "execution_count": 182,
   "id": "3fd89c9e",
   "metadata": {},
   "outputs": [],
   "source": [
    "soup = BeautifulSoup(content, \"html.parser\")\n",
    "soup = BeautifulSoup(soup.prettify(), \"html.parser\")"
   ]
  },
  {
   "cell_type": "code",
   "execution_count": 183,
   "id": "1a9ec55d",
   "metadata": {},
   "outputs": [
    {
     "data": {
      "text/plain": [
       "<!DOCTYPE html>\n",
       "\n",
       "<!--[if lt IE 7]> <html lang=\"en-us\" class=\"a-no-js a-lt-ie9 a-lt-ie8 a-lt-ie7\"> <![endif]-->\n",
       "<!--[if IE 7]>    <html lang=\"en-us\" class=\"a-no-js a-lt-ie9 a-lt-ie8\"> <![endif]-->\n",
       "<!--[if IE 8]>    <html lang=\"en-us\" class=\"a-no-js a-lt-ie9\"> <![endif]-->\n",
       "<!--[if gt IE 8]><!-->\n",
       "<html class=\"a-no-js\" lang=\"en-us\">\n",
       "<!--<![endif]-->\n",
       "<head>\n",
       "<meta content=\"text/html; charset=utf-8\" http-equiv=\"content-type\"/>\n",
       "<meta charset=\"utf-8\"/>\n",
       "<meta content=\"IE=edge,chrome=1\" http-equiv=\"X-UA-Compatible\"/>\n",
       "<title dir=\"ltr\">\n",
       "   Amazon.com\n",
       "  </title>\n",
       "<meta content=\"width=device-width\" name=\"viewport\"/>\n",
       "<link href=\"https://images-na.ssl-images-amazon.com/images/G/01/AUIClients/AmazonUI-3c913031596ca78a3768f4e934b1cc02ce238101.secure.min._V1_.css\" rel=\"stylesheet\"/>\n",
       "<script>\n",
       "   if (true === true) {\n",
       "    var ue_t0 = (+ new Date()),\n",
       "        ue_csm = window,\n",
       "        ue = { t0: ue_t0, d: function() { return (+new Date() - ue_t0); } },\n",
       "        ue_furl = \"fls-na.amazon.com\",\n",
       "        ue_mid = \"ATVPDKIKX0DER\",\n",
       "        ue_sid = (document.cookie.match(/session-id=([0-9-]+)/) || [])[1],\n",
       "        ue_sn = \"opfcaptcha.amazon.com\",\n",
       "        ue_id = '889B5XRPQA46T2CTR08S';\n",
       "}\n",
       "  </script>\n",
       "</head>\n",
       "<body>\n",
       "<!--\n",
       "        To discuss automated access to Amazon data please contact api-services-support@amazon.com.\n",
       "        For information about migrating to our APIs refer to our Marketplace APIs at https://developer.amazonservices.com/ref=rm_c_sv, or our Product Advertising API at https://affiliate-program.amazon.com/gp/advertising/api/detail/main.html/ref=rm_c_ac for advertising use cases.\n",
       "-->\n",
       "<!--\n",
       "Correios.DoNotSend\n",
       "-->\n",
       "<div class=\"a-container a-padding-double-large\" style=\"min-width:350px;padding:44px 0 !important\">\n",
       "<div class=\"a-row a-spacing-double-large\" style=\"width: 350px; margin: 0 auto\">\n",
       "<div class=\"a-row a-spacing-medium a-text-center\">\n",
       "<i class=\"a-icon a-logo\">\n",
       "</i>\n",
       "</div>\n",
       "<div class=\"a-box a-alert a-alert-info a-spacing-base\">\n",
       "<div class=\"a-box-inner\">\n",
       "<i class=\"a-icon a-icon-alert\">\n",
       "</i>\n",
       "<h4>\n",
       "       Enter the characters you see below\n",
       "      </h4>\n",
       "<p class=\"a-last\">\n",
       "       Sorry, we just need to make sure you're not a robot. For best results, please make sure your browser is accepting cookies.\n",
       "      </p>\n",
       "</div>\n",
       "</div>\n",
       "<div class=\"a-section\">\n",
       "<div class=\"a-box a-color-offset-background\">\n",
       "<div class=\"a-box-inner a-padding-extra-large\">\n",
       "<form action=\"/errors/validateCaptcha\" method=\"get\" name=\"\">\n",
       "<input name=\"amzn\" type=\"hidden\" value=\"b12lKuiac7wBPjbw2Bmc2w==\"/>\n",
       "<input name=\"amzn-r\" type=\"hidden\" value=\"/Melissa-Doug-Take-Along-Tabletop-Multicolor/dp/B07KBQJV5H/?_encoding=UTF8&amp;_ref=dlx_gate_sd_dcl_tlt_c95adc21_dt&amp;pd_rd_w=BXVG5&amp;content-id=amzn1.sym.2ed7d12d-4886-42ac-ae8f-d4dd936eb1e6&amp;pf_rd_p=2ed7d12d-4886-42ac-ae8f-d4dd936eb1e6&amp;pf_rd_r=RAC6MFJ6A1T37V0SX2TW&amp;pd_rd_wg=Gn0qS&amp;pd_rd_r=e78e60ad-3401-4d40-9b15-4de06b3fb849&amp;ref_=pd_gw_unk\"/>\n",
       "<div class=\"a-row a-spacing-large\">\n",
       "<div class=\"a-box\">\n",
       "<div class=\"a-box-inner\">\n",
       "<h4>\n",
       "            Type the characters you see in this image:\n",
       "           </h4>\n",
       "<div class=\"a-row a-text-center\">\n",
       "<img src=\"https://images-na.ssl-images-amazon.com/captcha/icyrpkip/Captcha_ulsqrzccwl.jpg\"/>\n",
       "</div>\n",
       "<div class=\"a-row a-spacing-base\">\n",
       "<div class=\"a-row\">\n",
       "<div class=\"a-column a-span6\">\n",
       "</div>\n",
       "<div class=\"a-column a-span6 a-span-last a-text-right\">\n",
       "<a onclick=\"window.location.reload()\">\n",
       "               Try different image\n",
       "              </a>\n",
       "</div>\n",
       "</div>\n",
       "<input autocapitalize=\"off\" autocomplete=\"off\" autocorrect=\"off\" class=\"a-span12\" id=\"captchacharacters\" name=\"field-keywords\" placeholder=\"Type characters\" spellcheck=\"false\" type=\"text\"/>\n",
       "</div>\n",
       "</div>\n",
       "</div>\n",
       "</div>\n",
       "<div class=\"a-section a-spacing-extra-large\">\n",
       "<div class=\"a-row\">\n",
       "<span class=\"a-button a-button-primary a-span12\">\n",
       "<span class=\"a-button-inner\">\n",
       "<button class=\"a-button-text\" type=\"submit\">\n",
       "             Continue shopping\n",
       "            </button>\n",
       "</span>\n",
       "</span>\n",
       "</div>\n",
       "</div>\n",
       "</form>\n",
       "</div>\n",
       "</div>\n",
       "</div>\n",
       "</div>\n",
       "<div class=\"a-divider a-divider-section\">\n",
       "<div class=\"a-divider-inner\">\n",
       "</div>\n",
       "</div>\n",
       "<div class=\"a-text-center a-spacing-small a-size-mini\">\n",
       "<a href=\"https://www.amazon.com/gp/help/customer/display.html/ref=footer_cou?ie=UTF8&amp;nodeId=508088\">\n",
       "     Conditions of Use\n",
       "    </a>\n",
       "<span class=\"a-letter-space\">\n",
       "</span>\n",
       "<span class=\"a-letter-space\">\n",
       "</span>\n",
       "<span class=\"a-letter-space\">\n",
       "</span>\n",
       "<span class=\"a-letter-space\">\n",
       "</span>\n",
       "<a href=\"https://www.amazon.com/gp/help/customer/display.html/ref=footer_privacy?ie=UTF8&amp;nodeId=468496\">\n",
       "     Privacy Policy\n",
       "    </a>\n",
       "</div>\n",
       "<div class=\"a-text-center a-size-mini a-color-secondary\">\n",
       "    © 1996-2014, Amazon.com, Inc. or its affiliates\n",
       "    <script>\n",
       "     if (true === true) {\n",
       "             document.write('<img src=\"https://fls-na.amaz'+'on.com/'+'1/oc-csi/1/OP/requestId=889B5XRPQA46T2CTR08S&js=1\" />');\n",
       "           };\n",
       "    </script>\n",
       "<noscript>\n",
       "<img src=\"https://fls-na.amazon.com/1/oc-csi/1/OP/requestId=889B5XRPQA46T2CTR08S&amp;js=0\"/>\n",
       "</noscript>\n",
       "</div>\n",
       "</div>\n",
       "<script>\n",
       "   if (true === true) {\n",
       "        var head = document.getElementsByTagName('head')[0],\n",
       "            prefix = \"https://images-na.ssl-images-amazon.com/images/G/01/csminstrumentation/\",\n",
       "            elem = document.createElement(\"script\");\n",
       "        elem.src = prefix + \"csm-captcha-instrumentation.min.js\";\n",
       "        head.appendChild(elem);\n",
       "\n",
       "        elem = document.createElement(\"script\");\n",
       "        elem.src = prefix + \"rd-script-6d68177fa6061598e9509dc4b5bdd08d.js\";\n",
       "        head.appendChild(elem);\n",
       "    }\n",
       "  </script>\n",
       "</body>\n",
       "</html>"
      ]
     },
     "execution_count": 183,
     "metadata": {},
     "output_type": "execute_result"
    }
   ],
   "source": [
    "soup"
   ]
  },
  {
   "cell_type": "code",
   "execution_count": 147,
   "id": "26dadf49",
   "metadata": {},
   "outputs": [
    {
     "data": {
      "text/plain": [
       "<title dir=\"ltr\">\n",
       "   Amazon.com\n",
       "  </title>"
      ]
     },
     "execution_count": 147,
     "metadata": {},
     "output_type": "execute_result"
    }
   ],
   "source": [
    "soup.find(\"title\")"
   ]
  },
  {
   "cell_type": "code",
   "execution_count": 139,
   "id": "f4979b4c",
   "metadata": {},
   "outputs": [],
   "source": [
    "Amazon_saved = soup"
   ]
  },
  {
   "cell_type": "code",
   "execution_count": null,
   "id": "cf130354",
   "metadata": {},
   "outputs": [],
   "source": []
  }
 ],
 "metadata": {
  "kernelspec": {
   "display_name": "Python [conda env:new] *",
   "language": "python",
   "name": "conda-env-new-py"
  },
  "language_info": {
   "codemirror_mode": {
    "name": "ipython",
    "version": 3
   },
   "file_extension": ".py",
   "mimetype": "text/x-python",
   "name": "python",
   "nbconvert_exporter": "python",
   "pygments_lexer": "ipython3",
   "version": "3.8.15"
  }
 },
 "nbformat": 4,
 "nbformat_minor": 5
}
