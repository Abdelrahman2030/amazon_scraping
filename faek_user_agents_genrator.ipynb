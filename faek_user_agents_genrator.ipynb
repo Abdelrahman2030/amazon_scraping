{
 "cells": [
  {
   "cell_type": "code",
   "execution_count": 1,
   "id": "42d0022e",
   "metadata": {},
   "outputs": [],
   "source": [
    "import pandas as pd\n",
    "from fake_useragent import UserAgent\n",
    "ua = UserAgent()"
   ]
  },
  {
   "cell_type": "markdown",
   "id": "9cfe4616",
   "metadata": {},
   "source": [
    "**The fake_useragent library is a python lib. used to create fake user agents, it can take diffrent argumnets like spefic prowser, or specific os, etc.**\n",
    "**But the best thing about it is that it's so updadet and this version is in oct 2023**"
   ]
  },
  {
   "cell_type": "code",
   "execution_count": 18,
   "id": "f2df9aa2",
   "metadata": {},
   "outputs": [],
   "source": [
    "# Creating a df of fake user agents\n",
    "user_agents = []\n",
    "for index in range(200):\n",
    "    user_agent = ua.random\n",
    "    user_agents.append(user_agent)"
   ]
  },
  {
   "cell_type": "code",
   "execution_count": 19,
   "id": "ab893bc2",
   "metadata": {},
   "outputs": [],
   "source": [
    "ua_df = pd.DataFrame(user_agents, columns = [\"user_agent\"])"
   ]
  },
  {
   "cell_type": "code",
   "execution_count": 20,
   "id": "1a86ef68",
   "metadata": {},
   "outputs": [
    {
     "data": {
      "text/plain": [
       "50"
      ]
     },
     "execution_count": 20,
     "metadata": {},
     "output_type": "execute_result"
    }
   ],
   "source": [
    "ua_df[\"user_agent\"].nunique()"
   ]
  },
  {
   "cell_type": "code",
   "execution_count": 21,
   "id": "62472288",
   "metadata": {},
   "outputs": [
    {
     "data": {
      "text/plain": [
       "150"
      ]
     },
     "execution_count": 21,
     "metadata": {},
     "output_type": "execute_result"
    }
   ],
   "source": [
    "ua_df.duplicated().sum()"
   ]
  },
  {
   "cell_type": "markdown",
   "id": "3bae9137",
   "metadata": {},
   "source": [
    "**I have expected that we will have a lot of repeated values so i set the range to 200**"
   ]
  },
  {
   "cell_type": "code",
   "execution_count": 22,
   "id": "662c3041",
   "metadata": {},
   "outputs": [],
   "source": [
    "#i will remove all the repeated user agnets\n",
    "ua_df.drop_duplicates(inplace = True)"
   ]
  },
  {
   "cell_type": "code",
   "execution_count": 23,
   "id": "7ba75d08",
   "metadata": {},
   "outputs": [],
   "source": [
    "ua_df.to_csv(\"user_agents_list.csv\", index = False)"
   ]
  },
  {
   "cell_type": "code",
   "execution_count": null,
   "id": "87c8d036",
   "metadata": {},
   "outputs": [],
   "source": []
  }
 ],
 "metadata": {
  "kernelspec": {
   "display_name": "Python [conda env:new] *",
   "language": "python",
   "name": "conda-env-new-py"
  },
  "language_info": {
   "codemirror_mode": {
    "name": "ipython",
    "version": 3
   },
   "file_extension": ".py",
   "mimetype": "text/x-python",
   "name": "python",
   "nbconvert_exporter": "python",
   "pygments_lexer": "ipython3",
   "version": "3.8.15"
  }
 },
 "nbformat": 4,
 "nbformat_minor": 5
}
