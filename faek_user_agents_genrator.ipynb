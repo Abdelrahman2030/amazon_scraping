{
 "cells": [
  {
   "cell_type": "code",
   "execution_count": 1,
   "id": "86b21bc8",
   "metadata": {},
   "outputs": [],
   "source": [
    "import pandas as pd\n",
    "from fake_useragent import UserAgent\n",
    "ua = UserAgent()"
   ]
  },
  {
   "cell_type": "markdown",
   "id": "fa66160a",
   "metadata": {},
   "source": [
    "**The fake_useragent library is a python lib. used to create fake user agents, it can take diffrent argumnets like spefic prowser, or specific os, etc.**\n",
    "**But the best thing about it is that it's so updadet and this version is in oct 2023**"
   ]
  },
  {
   "cell_type": "code",
   "execution_count": 2,
   "id": "1a5acecc",
   "metadata": {},
   "outputs": [
    {
     "data": {
      "text/plain": [
       "'Mozilla/5.0 (X11; Linux x86_64) AppleWebKit/537.36 (KHTML, like Gecko) Chrome/115.0.0.0 Safari/537.36'"
      ]
     },
     "execution_count": 2,
     "metadata": {},
     "output_type": "execute_result"
    }
   ],
   "source": [
    "ua.chrome"
   ]
  },
  {
   "cell_type": "code",
   "execution_count": 4,
   "id": "0b5f02da",
   "metadata": {},
   "outputs": [],
   "source": [
    "# Creating a df of fake user agents\n",
    "user_agents = []\n",
    "for index in range(200):\n",
    "    user_agent = ua.chrome\n",
    "    user_agents.append(user_agent)"
   ]
  },
  {
   "cell_type": "code",
   "execution_count": 5,
   "id": "03bcef04",
   "metadata": {},
   "outputs": [],
   "source": [
    "ua_df = pd.DataFrame(user_agents, columns = [\"user_agent\"])"
   ]
  },
  {
   "cell_type": "code",
   "execution_count": 6,
   "id": "f234c510",
   "metadata": {},
   "outputs": [
    {
     "data": {
      "text/plain": [
       "19"
      ]
     },
     "execution_count": 6,
     "metadata": {},
     "output_type": "execute_result"
    }
   ],
   "source": [
    "ua_df[\"user_agent\"].nunique()"
   ]
  },
  {
   "cell_type": "code",
   "execution_count": 7,
   "id": "2888343a",
   "metadata": {},
   "outputs": [
    {
     "data": {
      "text/plain": [
       "181"
      ]
     },
     "execution_count": 7,
     "metadata": {},
     "output_type": "execute_result"
    }
   ],
   "source": [
    "ua_df.duplicated().sum()"
   ]
  },
  {
   "cell_type": "markdown",
   "id": "4cecae70",
   "metadata": {},
   "source": [
    "**I have expected that we will have a lot of repeated values so i set the range to 200**"
   ]
  },
  {
   "cell_type": "code",
   "execution_count": 8,
   "id": "28e3c5bb",
   "metadata": {},
   "outputs": [],
   "source": [
    "#i will remove all the repeated user agnets\n",
    "ua_df.drop_duplicates(inplace = True)"
   ]
  },
  {
   "cell_type": "code",
   "execution_count": 9,
   "id": "ac2cc064",
   "metadata": {},
   "outputs": [],
   "source": [
    "ua_df.to_csv(\"user_agents_list.csv\", index = False)"
   ]
  },
  {
   "cell_type": "code",
   "execution_count": null,
   "id": "7997706d",
   "metadata": {},
   "outputs": [],
   "source": []
  }
 ],
 "metadata": {
  "kernelspec": {
   "display_name": "Python [conda env:new] *",
   "language": "python",
   "name": "conda-env-new-py"
  },
  "language_info": {
   "codemirror_mode": {
    "name": "ipython",
    "version": 3
   },
   "file_extension": ".py",
   "mimetype": "text/x-python",
   "name": "python",
   "nbconvert_exporter": "python",
   "pygments_lexer": "ipython3",
   "version": "3.8.15"
  }
 },
 "nbformat": 4,
 "nbformat_minor": 5
}
