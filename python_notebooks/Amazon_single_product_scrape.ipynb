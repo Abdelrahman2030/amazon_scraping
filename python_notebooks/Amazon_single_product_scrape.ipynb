{
 "cells": [
  {
   "cell_type": "code",
   "execution_count": 1,
   "id": "12ccf1cf",
   "metadata": {},
   "outputs": [],
   "source": [
    "import pandas as pd\n",
    "import numpy as np\n",
    "from bs4 import BeautifulSoup\n",
    "import requests\n",
    "import time\n",
    "import random"
   ]
  },
  {
   "cell_type": "code",
   "execution_count": 2,
   "id": "8074a91c",
   "metadata": {},
   "outputs": [],
   "source": [
    "url = 'https://www.amazon.eg/-/en/'"
   ]
  },
  {
   "cell_type": "code",
   "execution_count": 3,
   "id": "a4d33137",
   "metadata": {},
   "outputs": [],
   "source": [
    "url = 'https://www.amazon.eg/s?k=white+tshirt&crid=AB91SI275UBO&sprefix=white+tsh%2Caps%2C206&ref=nb_sb_ss_ts-doa-p_1_9'"
   ]
  },
  {
   "cell_type": "markdown",
   "id": "c60d7c8e",
   "metadata": {},
   "source": [
    "## The way to over come the pot tracking system\n",
    ">**To get over the security of Amzon that blockes any pot, i did the following, created a list of many cookies that i have collected from sevral websites, then created a dict. in wich I choose random cookies in it**\n",
    "\n",
    ">**I did the same thing with user agents**\n",
    "\n",
    ">**The final result is that when I use requests each time i have a diffrent compination of cookies and user agents so I can trick Amazon to think that the pot is real human**\n",
    "\n",
    ">**I collected cookies manually and stored them in a csv file then opend them, This will make the code looks cleaner**"
   ]
  },
  {
   "cell_type": "code",
   "execution_count": 4,
   "id": "a5b65295",
   "metadata": {},
   "outputs": [],
   "source": [
    "# I have a lot of cookies saved in a csv file, so i will open it here\n",
    "cookies_df = pd.read_csv(\"cookies_list.csv\")"
   ]
  },
  {
   "cell_type": "code",
   "execution_count": 5,
   "id": "72d12817",
   "metadata": {},
   "outputs": [],
   "source": [
    "user_agents_df = pd.read_csv(\"user_agents_list.csv\")"
   ]
  },
  {
   "cell_type": "markdown",
   "id": "6ac25569",
   "metadata": {},
   "source": [
    "**Here i Have created a code in a diffrent notebook to create a csv file of fake user agents using the library fake-useragents**"
   ]
  },
  {
   "cell_type": "code",
   "execution_count": 20,
   "id": "3d841c80",
   "metadata": {},
   "outputs": [],
   "source": [
    "# Now i WIll make a dict for the cookies\n",
    "cookie_keys = [\"cookies_1\"]\n",
    "\n",
    "# Convert the DataFrame column to a list\n",
    "all_cookies = cookies_df[\"cookies\"].tolist()\n",
    "\n",
    "# Generate a list of unique random cookies\n",
    "unique_cookies = random.sample(all_cookies, min(len(all_cookies), len(cookie_keys)))\n",
    "\n",
    "# Create the cookies_dict using the cookie_keys and unique_cookies\n",
    "cookies_dict = dict(zip(cookie_keys, unique_cookies))"
   ]
  },
  {
   "cell_type": "code",
   "execution_count": 27,
   "id": "8e4ea123",
   "metadata": {},
   "outputs": [],
   "source": [
    "# This code choose a random user agent from the file\n",
    "user_agent = random.choice(user_agents_df[\"user_agent\"])"
   ]
  },
  {
   "cell_type": "code",
   "execution_count": 28,
   "id": "1056d2ec",
   "metadata": {},
   "outputs": [],
   "source": [
    "headers = {\"User-Agent\": user_agent}"
   ]
  },
  {
   "cell_type": "code",
   "execution_count": 30,
   "id": "6d057395",
   "metadata": {},
   "outputs": [
    {
     "data": {
      "text/plain": [
       "<Response [503]>"
      ]
     },
     "execution_count": 30,
     "metadata": {},
     "output_type": "execute_result"
    }
   ],
   "source": [
    "# sending the request\n",
    "response = requests.get(url, headers = headers, cookies = cookies)\n",
    "response"
   ]
  },
  {
   "cell_type": "code",
   "execution_count": 10,
   "id": "89c90e37",
   "metadata": {},
   "outputs": [],
   "source": [
    "content = response.content"
   ]
  },
  {
   "cell_type": "code",
   "execution_count": 11,
   "id": "2d1d0b0d",
   "metadata": {},
   "outputs": [],
   "source": [
    "soup = BeautifulSoup(content, \"html.parser\")\n",
    "soup = BeautifulSoup(soup.prettify(), \"html.parser\")"
   ]
  },
  {
   "cell_type": "code",
   "execution_count": 12,
   "id": "44b2ad80",
   "metadata": {},
   "outputs": [
    {
     "data": {
      "text/plain": [
       "<html dir=\"rtl\" lang=\"ar-ae\">\n",
       "<head>\n",
       "<meta content=\"text/html; charset=utf-8\" http-equiv=\"content-type\"/>\n",
       "<meta charset=\"utf-8\"/>\n",
       "<meta content=\"IE=edge,chrome=1\" http-equiv=\"X-UA-Compatible\"/>\n",
       "<title>\n",
       "   عذرًا!\n",
       "  </title>\n",
       "<style type=\"text/css\">\n",
       "   @font-face {\n",
       "            font-family: 'Amazon Ember';\n",
       "            src: url(https://m.media-amazon.com/images/G/01/AUIClients/AmazonUIFont-AmazonEmberArabic_W_Rg-4d64d271b77875f42d8d469946fe802514f9dc56._V2_.woff2) format(\"woff2\"),url(https://m.media-amazon.com/images/G/01/AUIClients/AmazonUIFont-AmazonEmberArabic_W_Rg-31bbd5faf709e03382c2b8b24c5dbbc246b216ca._V2_.woff) format(\"woff\")\n",
       "        }\n",
       "\n",
       "        @font-face {\n",
       "            font-family: 'Amazon Ember';\n",
       "            font-weight: 500;\n",
       "            src: url(https://m.media-amazon.com/images/G/01/AUIClients/AmazonUIFont-AmazonEmberArabic_W_Md-1404922cc786d09f014f2b5787142bfbb0c65ebb._V2_.woff2) format(\"woff2\"),url(https://m.media-amazon.com/images/G/01/AUIClients/AmazonUIFont-AmazonEmberArabic_W_Md-62366df91a07e21e173a1ad572c975bc4590f842._V2_.woff) format(\"woff\")\n",
       "        }\n",
       "\n",
       "        @font-face {\n",
       "            font-family: 'Amazon Ember';\n",
       "            font-weight: 700;\n",
       "            src: url(https://m.media-amazon.com/images/G/01/AUIClients/AmazonUIFont-AmazonEmberArabic_W_Bd-2f2d89da18ab11772786afb028be39ee08e166d0._V2_.woff2) format(\"woff2\"),url(https://m.media-amazon.com/images/G/01/AUIClients/AmazonUIFont-AmazonEmberArabic_W_Bd-31ed87e391ffe66ff45fdae6d75d6e56758060dc._V2_.woff) format(\"woff\")\n",
       "        }\n",
       "\n",
       "        * {\n",
       "            font-family: \"Amazon Ember\",Arial,sans-serif !important;\n",
       "        }\n",
       "  </style>\n",
       "</head>\n",
       "<body alink=\"#FF9933\" bgcolor=\"#FFFFFF\" link=\"#003399\" text=\"#000000\" vlink=\"#996633\">\n",
       "<!--\n",
       "لمناقشة الوصول الآلي إلى بيانات أمازون، يرجى التواصل عبر البريد الإلكتروني api-services-support@amazon.com. وللحصول على معلومات حول الانتقال إلى واجهات برمجة التطبيقات (APIs) الخاصة بنا، يُرجى الرجوع إلى واجهات برمجة التطبيقات الخاصة بالسوق على https://developer.amazonservices.com/ref=rm_5_sv، أو واجهة برمجة تطبيقات إعلانات المنتجات على https://affiliate-program.amazon.com/gp/advertising/api/detail/main.html/ref=rm_5_ac لحالات الاستخدام الإعلاني.\n",
       "\n",
       "        To discuss automated access to Amazon data please contact api-services-support@amazon.com.\n",
       "        For information about migrating to our APIs refer to our Marketplace APIs at https://developer.amazonservices.de/ref=rm_5_sv, or our Product Advertising API at https://partnernet.amazon.de/gp/advertising/api/detail/main.html/ref=rm_5_ac for advertising use cases.\n",
       "-->\n",
       "<center>\n",
       "<a href=\"https://www.amazon.eg/ref=cs_503_logo/\">\n",
       "<img alt=\"Amazon.eg\" border=\"0\" height=\"37\" src=\"https://images-eu.ssl-images-amazon.com/images/G/01/x-locale/communities/people/logo.gif\" width=\"153\"/>\n",
       "</a>\n",
       "<p>\n",
       "<table align=\"center\" bgcolor=\"#ffffff\" border=\"0\" cellpadding=\"3\" cellspacing=\"2\" width=\"90%\">\n",
       "<tr>\n",
       "<td>\n",
       "<h2>\n",
       "        عذرًا!\n",
       "       </h2>\n",
       "       حدث خطأ عند محاولة معالجة طلبك. نحن نعمل على حل المشكلة ونتوقع حلها قريبًا.\n",
       "       <p>\n",
       "        يرجى ملاحظة أنه إذا كنت تحاول تقديم طلب، فلن تتم معالجته في هذا الوقت. يرجى المحاولة مرة أخرى في وقت لاحق.\n",
       "        <p>\n",
       "         نأسف للإزعاج!\n",
       "        </p>\n",
       "</p>\n",
       "</td>\n",
       "</tr>\n",
       "</table>\n",
       "<b>\n",
       "<a href=\"https://www.amazon.eg/ref=cs_503_link/\">\n",
       "      اضغط هنا للعودة إلى أمازون الصفحة الرئيسية\n",
       "     </a>\n",
       "</b>\n",
       "</p>\n",
       "</center>\n",
       "</body>\n",
       "</html>"
      ]
     },
     "execution_count": 12,
     "metadata": {},
     "output_type": "execute_result"
    }
   ],
   "source": [
    "soup"
   ]
  },
  {
   "cell_type": "code",
   "execution_count": 13,
   "id": "a239401f",
   "metadata": {},
   "outputs": [
    {
     "data": {
      "text/plain": [
       "<title>\n",
       "   عذرًا!\n",
       "  </title>"
      ]
     },
     "execution_count": 13,
     "metadata": {},
     "output_type": "execute_result"
    }
   ],
   "source": [
    "soup.find(\"title\")"
   ]
  },
  {
   "cell_type": "code",
   "execution_count": 14,
   "id": "63f5ba63",
   "metadata": {},
   "outputs": [],
   "source": [
    "Amazon_saved = soup"
   ]
  },
  {
   "cell_type": "code",
   "execution_count": null,
   "id": "71946d0a",
   "metadata": {},
   "outputs": [],
   "source": []
  }
 ],
 "metadata": {
  "kernelspec": {
   "display_name": "Python [conda env:new] *",
   "language": "python",
   "name": "conda-env-new-py"
  },
  "language_info": {
   "codemirror_mode": {
    "name": "ipython",
    "version": 3
   },
   "file_extension": ".py",
   "mimetype": "text/x-python",
   "name": "python",
   "nbconvert_exporter": "python",
   "pygments_lexer": "ipython3",
   "version": "3.8.15"
  }
 },
 "nbformat": 4,
 "nbformat_minor": 5
}
